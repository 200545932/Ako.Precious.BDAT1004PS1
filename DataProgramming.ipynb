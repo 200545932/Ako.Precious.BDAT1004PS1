{
  "nbformat": 4,
  "nbformat_minor": 0,
  "metadata": {
    "colab": {
      "provenance": [],
      "authorship_tag": "ABX9TyMdHiI82tlqNHIZvN78KyIQ",
      "include_colab_link": true
    },
    "kernelspec": {
      "name": "python3",
      "display_name": "Python 3"
    },
    "language_info": {
      "name": "python"
    }
  },
  "cells": [
    {
      "cell_type": "markdown",
      "metadata": {
        "id": "view-in-github",
        "colab_type": "text"
      },
      "source": [
        "<a href=\"https://colab.research.google.com/github/200545932/Ako.Precious.BDAT1004PS1/blob/main/DataProgramming.ipynb\" target=\"_parent\"><img src=\"https://colab.research.google.com/assets/colab-badge.svg\" alt=\"Open In Colab\"/></a>"
      ]
    },
    {
      "cell_type": "markdown",
      "source": [
        "# Add The Python File to a GitHub Repo"
      ],
      "metadata": {
        "id": "IgsMYokVo_ym"
      }
    },
    {
      "cell_type": "code",
      "execution_count": null,
      "metadata": {
        "colab": {
          "base_uri": "https://localhost:8080/"
        },
        "id": "9b5lkbF6o2zG",
        "outputId": "f28cda8d-d9a2-480a-8980-6158431bc3ca"
      },
      "outputs": [
        {
          "output_type": "stream",
          "name": "stdout",
          "text": [
            "Reading package lists... Done\n",
            "Building dependency tree       \n",
            "Reading state information... Done\n",
            "git is already the newest version (1:2.25.1-1ubuntu3.11).\n",
            "0 upgraded, 0 newly installed, 0 to remove and 34 not upgraded.\n"
          ]
        }
      ],
      "source": [
        "!apt-get install git"
      ]
    },
    {
      "cell_type": "code",
      "source": [
        "!git clone https://github.com/200545932/Ako.Precious.BDAT1004PS1.git"
      ],
      "metadata": {
        "colab": {
          "base_uri": "https://localhost:8080/"
        },
        "id": "U_MnBoIvq52y",
        "outputId": "94c0c369-7799-4e44-abd0-c9379fb59a87"
      },
      "execution_count": null,
      "outputs": [
        {
          "output_type": "stream",
          "name": "stdout",
          "text": [
            "fatal: destination path 'Ako.Precious.BDAT1004PS1' already exists and is not an empty directory.\n"
          ]
        }
      ]
    },
    {
      "cell_type": "markdown",
      "source": [
        "# Question 6"
      ],
      "metadata": {
        "id": "4b_Mux1xo5Wj"
      }
    },
    {
      "cell_type": "markdown",
      "source": [
        "### You can turn a word into pig-Latin using the following two rules(simplified):\n",
        "• If the word starts with a consonant, move that letter to the end and append \n",
        "'ay'. For example, 'happy' becomes 'appyhay' and 'pencil' becomes 'encilpay'.\n",
        "• If the word starts with a vowel, simply append 'way' to the end of the word. \n",
        "For example, 'enter' becomes 'enterway' and 'other' becomes 'otherway' . For \n",
        "our purposes, there are 5 vowels: a, e, i, o, u (so we count y as a consonant).\n",
        "Write a function pig() that takes a word (i.e., a string) as input and returns its pig\u0002Latin form. Your function should still work if the input word contains upper case \n",
        "characters. Your output should always be lower case however.\n"
      ],
      "metadata": {
        "id": "EasiFVWI2-EN"
      }
    },
    {
      "cell_type": "code",
      "source": [
        "# https://stackoverflow.com/questions/60982439/pig-latin-string-conversion-in-python\n",
        "# I tried to refractor the code and make it simpler \n",
        "\n",
        "def pig(word):\n",
        "    vowels = ['a', 'e', 'i', 'o', 'u']\n",
        "    word = word.lower()\n",
        "    if word[0] in vowels:\n",
        "        return word + 'way'\n",
        "    else:\n",
        "        return word[1:] + word[0] + 'ay'\n",
        "\n",
        "print(pig('happy'))\n",
        "print(pig('pencils'))\n",
        "print(pig('Entered'))\n",
        "print(pig('People'))\n",
        "\n"
      ],
      "metadata": {
        "colab": {
          "base_uri": "https://localhost:8080/"
        },
        "id": "QjhVql2Z3LjI",
        "outputId": "65c102e3-615f-4d44-bc9c-3a524e38e4ed"
      },
      "execution_count": 13,
      "outputs": [
        {
          "output_type": "stream",
          "name": "stdout",
          "text": [
            "appyhay\n",
            "encilspay\n",
            "enteredway\n",
            "eoplepay\n"
          ]
        }
      ]
    },
    {
      "cell_type": "markdown",
      "source": [
        "# Question 7 "
      ],
      "metadata": {
        "id": "PjZTIf275Zvj"
      }
    },
    {
      "cell_type": "markdown",
      "source": [],
      "metadata": {
        "id": "C3ndbe135d-0"
      }
    }
  ]
}