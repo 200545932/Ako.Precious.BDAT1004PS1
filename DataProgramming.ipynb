{
  "nbformat": 4,
  "nbformat_minor": 0,
  "metadata": {
    "colab": {
      "provenance": [],
      "authorship_tag": "ABX9TyOyrtsb1g8cUmeJh8lecOU7",
      "include_colab_link": true
    },
    "kernelspec": {
      "name": "python3",
      "display_name": "Python 3"
    },
    "language_info": {
      "name": "python"
    }
  },
  "cells": [
    {
      "cell_type": "markdown",
      "metadata": {
        "id": "view-in-github",
        "colab_type": "text"
      },
      "source": [
        "<a href=\"https://colab.research.google.com/github/200545932/Ako.Precious.BDAT1004PS1/blob/main/DataProgramming.ipynb\" target=\"_parent\"><img src=\"https://colab.research.google.com/assets/colab-badge.svg\" alt=\"Open In Colab\"/></a>"
      ]
    },
    {
      "cell_type": "markdown",
      "source": [
        "# Add The Python File to a GitHub Repo"
      ],
      "metadata": {
        "id": "IgsMYokVo_ym"
      }
    },
    {
      "cell_type": "code",
      "execution_count": null,
      "metadata": {
        "colab": {
          "base_uri": "https://localhost:8080/"
        },
        "id": "9b5lkbF6o2zG",
        "outputId": "f28cda8d-d9a2-480a-8980-6158431bc3ca"
      },
      "outputs": [
        {
          "output_type": "stream",
          "name": "stdout",
          "text": [
            "Reading package lists... Done\n",
            "Building dependency tree       \n",
            "Reading state information... Done\n",
            "git is already the newest version (1:2.25.1-1ubuntu3.11).\n",
            "0 upgraded, 0 newly installed, 0 to remove and 34 not upgraded.\n"
          ]
        }
      ],
      "source": [
        "!apt-get install git"
      ]
    },
    {
      "cell_type": "code",
      "source": [
        "!git clone https://github.com/200545932/Ako.Precious.BDAT1004PS1.git"
      ],
      "metadata": {
        "colab": {
          "base_uri": "https://localhost:8080/"
        },
        "id": "U_MnBoIvq52y",
        "outputId": "94c0c369-7799-4e44-abd0-c9379fb59a87"
      },
      "execution_count": null,
      "outputs": [
        {
          "output_type": "stream",
          "name": "stdout",
          "text": [
            "fatal: destination path 'Ako.Precious.BDAT1004PS1' already exists and is not an empty directory.\n"
          ]
        }
      ]
    },
    {
      "cell_type": "markdown",
      "source": [
        "# Question 6"
      ],
      "metadata": {
        "id": "4b_Mux1xo5Wj"
      }
    },
    {
      "cell_type": "markdown",
      "source": [
        "### You can turn a word into pig-Latin using the following two rules(simplified):\n",
        "• If the word starts with a consonant, move that letter to the end and append \n",
        "'ay'. For example, 'happy' becomes 'appyhay' and 'pencil' becomes 'encilpay'.\n",
        "• If the word starts with a vowel, simply append 'way' to the end of the word. \n",
        "For example, 'enter' becomes 'enterway' and 'other' becomes 'otherway' . For \n",
        "our purposes, there are 5 vowels: a, e, i, o, u (so we count y as a consonant).\n",
        "Write a function pig() that takes a word (i.e., a string) as input and returns its pig\u0002Latin form. Your function should still work if the input word contains upper case \n",
        "characters. Your output should always be lower case however.\n"
      ],
      "metadata": {
        "id": "EasiFVWI2-EN"
      }
    },
    {
      "cell_type": "code",
      "source": [
        "# https://stackoverflow.com/questions/60982439/pig-latin-string-conversion-in-python\n",
        "# I tried to refractor the code and make it simpler \n",
        "\n",
        "def pig(word):\n",
        "    vowels = ['a', 'e', 'i', 'o', 'u']\n",
        "    word = word.lower()\n",
        "    if word[0] in vowels:\n",
        "        return word + 'way'\n",
        "    else:\n",
        "        return word[1:] + word[0] + 'ay'\n",
        "\n",
        "print(pig('Happy'))\n",
        "print(pig('Enter'))\n",
        "print(pig('Pencils'))\n",
        "print(pig('People'))\n",
        "\n"
      ],
      "metadata": {
        "colab": {
          "base_uri": "https://localhost:8080/"
        },
        "id": "QjhVql2Z3LjI",
        "outputId": "2fe37352-abcc-43f6-e173-73b4b0ec0f0f"
      },
      "execution_count": null,
      "outputs": [
        {
          "output_type": "stream",
          "name": "stdout",
          "text": [
            "appyhay\n",
            "enterway\n",
            "encilspay\n",
            "eoplepay\n"
          ]
        }
      ]
    },
    {
      "cell_type": "markdown",
      "source": [
        "# Question 7 "
      ],
      "metadata": {
        "id": "PjZTIf275Zvj"
      }
    },
    {
      "cell_type": "markdown",
      "source": [
        "### A file bloodtype1.txt records blood-types of patients (A, B, AB, O or OO) at a clinic. \n",
        "Write a function bldcount() that reads the file with name name and reports (i.e., \n",
        "prints) how many patients there are in each bloodtype."
      ],
      "metadata": {
        "id": "C3ndbe135d-0"
      }
    },
    {
      "cell_type": "code",
      "source": [
        "# https://stackoverflow.com/questions/47954216/python-count-numbers-from-input-file\n",
        "def bldcount(name):\n",
        "    blood_types = ['A', 'B', 'AB', 'O', 'OO']\n",
        "    with open(name) as f:\n",
        "        blood_data = f.read().split()\n",
        "        for blood_type in blood_types:\n",
        "            count = blood_data.count(blood_type)\n",
        "            print(f'Number of patients with blood type {blood_type}: {count}')\n",
        "\n",
        "bldcount('bloodtype1.txt')\n"
      ],
      "metadata": {
        "colab": {
          "base_uri": "https://localhost:8080/"
        },
        "id": "z32Qj_B766RX",
        "outputId": "9d10be30-ad03-4f62-cfca-47abf4371d42"
      },
      "execution_count": 23,
      "outputs": [
        {
          "output_type": "stream",
          "name": "stdout",
          "text": [
            "Number of patients with blood type A: 15\n",
            "Number of patients with blood type B: 1\n",
            "Number of patients with blood type AB: 13\n",
            "Number of patients with blood type O: 15\n",
            "Number of patients with blood type OO: 0\n"
          ]
        }
      ]
    },
    {
      "cell_type": "markdown",
      "source": [
        "# Question 8"
      ],
      "metadata": {
        "id": "hMFoufxCGESO"
      }
    },
    {
      "cell_type": "markdown",
      "source": [
        "### Write a function curconv() that takes as input:\n",
        "1. a currency represented using a string (e.g., 'JPY' for the Japanese Yen or \n",
        "'EUR' for the Euro)\n",
        "2. an amount\n",
        "and then converts and returns the amount in US dollars."
      ],
      "metadata": {
        "id": "3ZB30Py0GNkJ"
      }
    },
    {
      "cell_type": "code",
      "source": [
        "def curconv(currency, amount):\n",
        "    with open('currencies.txt') as f:\n",
        "        for line in f:\n",
        "            if currency in line:\n",
        "                conversion_rate = float(line.split()[1])\n",
        "                return round(amount * conversion_rate, 6)\n",
        "    return \"Currency not found in currencies.txt\"\n",
        "\n",
        "print(curconv('EUR', 100))\n",
        "print(curconv('JPY', 100))"
      ],
      "metadata": {
        "colab": {
          "base_uri": "https://localhost:8080/"
        },
        "id": "5eVlixLmGMqw",
        "outputId": "55729705-2318-4f92-a0ab-e060bc5d229c"
      },
      "execution_count": 27,
      "outputs": [
        {
          "output_type": "stream",
          "name": "stdout",
          "text": [
            "122.96544\n",
            "1.241401\n"
          ]
        }
      ]
    },
    {
      "cell_type": "markdown",
      "source": [
        "# Question 9"
      ],
      "metadata": {
        "id": "4F-7mo-WOWZ0"
      }
    },
    {
      "cell_type": "markdown",
      "source": [
        "### Each of the following will cause an exception (an error). Identify what type of exception each will cause.\n",
        "1. Trying to add incompatible variables, as in \n",
        "adding 6 + ‘a’\n",
        "2. Referring to the 12th item of a list that has only 10 \n",
        "items\n",
        "3. Using a value that is out ofrange for a function’s input, such as calling math.sqrt(-1.0)\n",
        "4. Using an undeclared variable, such as print(x)\n",
        "when x has not been defined\n",
        "5. Trying to open a file that does not exist, such as mistyping the file name or looking in the wrong \n",
        "directory"
      ],
      "metadata": {
        "id": "SIAGeJDvOdLB"
      }
    },
    {
      "cell_type": "markdown",
      "source": [
        "## **Answers** \n",
        "\n",
        "1. A TypeError exception will be raised if you attempt to combine variables that are incompatible, such as 6 + 'a' since you cannot add an integer and a string.\n",
        "2. There is no item at index 12 of a list with only 10 entries, hence referring to item 12 will result in an IndexError exception.\n",
        "3. You cannot take the square root of a negative integer, hence this will result in a ValueError exception.\n",
        "4. Considering that the variable x hasn't been declared, this will result in a NameError error.\n",
        "5. The file does not exist, hence this will result in a FileNotFoundError error."
      ],
      "metadata": {
        "id": "OwxEI6lrP5Xp"
      }
    },
    {
      "cell_type": "markdown",
      "source": [
        "# Question 10"
      ],
      "metadata": {
        "id": "PLseYBsLRwzn"
      }
    },
    {
      "cell_type": "markdown",
      "source": [
        "Encryption is the process of hiding the meaning of a text by substituting letters in the \n",
        "message with other letters, according to some system. If the process is successful, no \n",
        "one but the intended recipient can understand the encrypted message. Cryptanalysis \n",
        "refers to attempts to undo the encryption, even if some details of the encryption are \n",
        "unknown (for example, if an encrypted message has been intercepted). The first step \n",
        "of cryptanalysis is often to build up a table of letter frequencies in the encrypted text. \n",
        "Assume that the string letters is already defined as \n",
        "'abcdefghijklmnopqrstuvwxyz'. Write a function called frequencies() \n",
        "that takes a string as its only parameter, and returns a list of integers, showing the \n",
        "number of times each character appears in the text. Your function may ignore any \n",
        "characters that are not in letters."
      ],
      "metadata": {
        "id": "c0mlC8TCSuYh"
      }
    },
    {
      "cell_type": "code",
      "source": [
        "# https://stackoverflow.com/questions/40985203/counting-letter-frequency-in-a-string-python\n",
        "def frequencies(text):\n",
        "    letters = 'abcdefghijklmnopqrstuvwxyz'\n",
        "    freq_list = [0] * 26\n",
        "    for char in text:\n",
        "        if char.lower() in letters:\n",
        "            index = letters.index(char.lower())\n",
        "            freq_list[index] += 1\n",
        "    return freq_list\n",
        "\n",
        "print(frequencies('The quick red fox got bored and went home.'))\n",
        "print(frequencies('apple'))\n"
      ],
      "metadata": {
        "colab": {
          "base_uri": "https://localhost:8080/"
        },
        "id": "rrSarl91S6ks",
        "outputId": "e3cb53a1-e7b4-48a1-c832-0732acf81057"
      },
      "execution_count": 26,
      "outputs": [
        {
          "output_type": "stream",
          "name": "stdout",
          "text": [
            "[1, 1, 1, 3, 5, 1, 1, 2, 1, 0, 1, 0, 1, 2, 4, 0, 1, 2, 0, 3, 1, 0, 1, 1, 0, 0]\n",
            "[1, 0, 0, 0, 1, 0, 0, 0, 0, 0, 0, 1, 0, 0, 0, 2, 0, 0, 0, 0, 0, 0, 0, 0, 0, 0]\n"
          ]
        }
      ]
    }
  ]
}